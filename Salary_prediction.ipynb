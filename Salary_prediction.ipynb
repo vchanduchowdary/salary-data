{
  "nbformat": 4,
  "nbformat_minor": 0,
  "metadata": {
    "colab": {
      "name": "NITHIN.20191IST0189.NASSCOM PROJECT",
      "provenance": []
    },
    "kernelspec": {
      "name": "python3",
      "display_name": "Python 3"
    },
    "language_info": {
      "name": "python"
    }
  },
  "cells": [
    {
      "cell_type": "markdown",
      "metadata": {
        "id": "u5My4jrI3IC5"
      },
      "source": [
        ""
      ]
    },
    {
      "cell_type": "markdown",
      "metadata": {
        "id": "slL_lDlL3JOs"
      },
      "source": [
        "# **Problem Statement**"
      ]
    },
    {
      "cell_type": "markdown",
      "metadata": {
        "id": "1xLLKUzS3SuZ"
      },
      "source": [
        "The head of HR of a certain organization wants to automate their salary hike estimation. The organization consulted an analytics service provider and asked them to build a basic prediction model by providing them with a dataset that contains the data about the number of years of experience and the salary hike given accordingly. Build a Simple Linear Regression model with salary as the target variable.\n",
        "\n",
        "Definition of Variable -:\n",
        "\n",
        "Year of Experience (Input)\n",
        "Salary Hike -> Hike in salary (Target)"
      ]
    },
    {
      "cell_type": "markdown",
      "metadata": {
        "id": "0ncZJofZ3XqF"
      },
      "source": [
        "# **Approach to Solve the Business Case -:**"
      ]
    },
    {
      "cell_type": "markdown",
      "metadata": {
        "id": "vlftmpqd3nx9"
      },
      "source": [
        "1 Business Objective - Find Relationship between Salary Hike and Year of Experience     \n",
        "2 Perform EDA on data (Outlier, Missing Values).  \n",
        "3 Understand the relationship between the variable's using Scatter Plot.  \n",
        "4 Apply Simple linear regression with OLE to create base regression model( Vanilla Model)  \n",
        "5 Check the RMSE, R^2 & R values for the model.  \n",
        "6 Compare the Vanilla model with Model with Transformation's to check the best fit model.     \n",
        " Transformation used    \n",
        "A Logarithmic  \n",
        "B Exponential  \n",
        "C Polynomial with degree 2  \n",
        "7 After comparing RMSE, R^2 & R values, Select the best model.  \n",
        "8 Train & Test your data on these model to check the performance of model on test data."
      ]
    },
    {
      "cell_type": "code",
      "metadata": {
        "colab": {
          "base_uri": "https://localhost:8080/"
        },
        "id": "xqHDoixPtIX7",
        "outputId": "23fc739b-2f32-4a3f-f4a5-9143dd570747"
      },
      "source": [
        "#Import Library\n",
        "import pandas as pd\n",
        "import numpy as np\n",
        "import seaborn as sns\n",
        "import matplotlib.pyplot as plt\n",
        "% matplotlib inline\n",
        "import statsmodels.formula.api as smf"
      ],
      "execution_count": 1,
      "outputs": [
        {
          "output_type": "stream",
          "name": "stderr",
          "text": [
            "/usr/local/lib/python3.7/dist-packages/statsmodels/tools/_testing.py:19: FutureWarning: pandas.util.testing is deprecated. Use the functions in the public API at pandas.testing instead.\n",
            "  import pandas.util.testing as tm\n"
          ]
        }
      ]
    },
    {
      "cell_type": "code",
      "metadata": {
        "id": "WZRLd55RxJE4"
      },
      "source": [
        "#Import the dataset\n",
        "sal = pd.read_csv(\"/Salary.csv\")"
      ],
      "execution_count": 15,
      "outputs": []
    },
    {
      "cell_type": "code",
      "metadata": {
        "colab": {
          "base_uri": "https://localhost:8080/",
          "height": 203
        },
        "id": "Y2SWvZ1QyDc5",
        "outputId": "d8d02464-c4aa-4f01-fac9-3997572f72ce"
      },
      "source": [
        "#Check the data\n",
        "sal.head()"
      ],
      "execution_count": 16,
      "outputs": [
        {
          "output_type": "execute_result",
          "data": {
            "text/html": [
              "<div>\n",
              "<style scoped>\n",
              "    .dataframe tbody tr th:only-of-type {\n",
              "        vertical-align: middle;\n",
              "    }\n",
              "\n",
              "    .dataframe tbody tr th {\n",
              "        vertical-align: top;\n",
              "    }\n",
              "\n",
              "    .dataframe thead th {\n",
              "        text-align: right;\n",
              "    }\n",
              "</style>\n",
              "<table border=\"1\" class=\"dataframe\">\n",
              "  <thead>\n",
              "    <tr style=\"text-align: right;\">\n",
              "      <th></th>\n",
              "      <th>YearsExperience</th>\n",
              "      <th>Salary</th>\n",
              "    </tr>\n",
              "  </thead>\n",
              "  <tbody>\n",
              "    <tr>\n",
              "      <th>0</th>\n",
              "      <td>1.1</td>\n",
              "      <td>39343</td>\n",
              "    </tr>\n",
              "    <tr>\n",
              "      <th>1</th>\n",
              "      <td>1.3</td>\n",
              "      <td>46205</td>\n",
              "    </tr>\n",
              "    <tr>\n",
              "      <th>2</th>\n",
              "      <td>1.5</td>\n",
              "      <td>37731</td>\n",
              "    </tr>\n",
              "    <tr>\n",
              "      <th>3</th>\n",
              "      <td>2.0</td>\n",
              "      <td>43525</td>\n",
              "    </tr>\n",
              "    <tr>\n",
              "      <th>4</th>\n",
              "      <td>2.2</td>\n",
              "      <td>39891</td>\n",
              "    </tr>\n",
              "  </tbody>\n",
              "</table>\n",
              "</div>"
            ],
            "text/plain": [
              "   YearsExperience  Salary\n",
              "0              1.1   39343\n",
              "1              1.3   46205\n",
              "2              1.5   37731\n",
              "3              2.0   43525\n",
              "4              2.2   39891"
            ]
          },
          "metadata": {},
          "execution_count": 16
        }
      ]
    },
    {
      "cell_type": "markdown",
      "metadata": {
        "id": "YLgmp19J5Vov"
      },
      "source": [
        "Change the Column Label to short Abbrevation for ease of Code handling. Weight gained (grams) - wg Calories Consumed - cc"
      ]
    },
    {
      "cell_type": "markdown",
      "metadata": {
        "id": "T-nN5M9W5YzN"
      },
      "source": [
        "**Rename Column for Ease of Coding**"
      ]
    },
    {
      "cell_type": "code",
      "metadata": {
        "colab": {
          "base_uri": "https://localhost:8080/",
          "height": 203
        },
        "id": "ps-6HMGRyFOk",
        "outputId": "30e8a3fe-5fd1-493a-d3c8-8041431bb349"
      },
      "source": [
        "sal = sal.rename(columns={\"Salary\":\"hike\",\"YearsExperience\":\"years\"})\n",
        "sal.head(5)"
      ],
      "execution_count": 17,
      "outputs": [
        {
          "output_type": "execute_result",
          "data": {
            "text/html": [
              "<div>\n",
              "<style scoped>\n",
              "    .dataframe tbody tr th:only-of-type {\n",
              "        vertical-align: middle;\n",
              "    }\n",
              "\n",
              "    .dataframe tbody tr th {\n",
              "        vertical-align: top;\n",
              "    }\n",
              "\n",
              "    .dataframe thead th {\n",
              "        text-align: right;\n",
              "    }\n",
              "</style>\n",
              "<table border=\"1\" class=\"dataframe\">\n",
              "  <thead>\n",
              "    <tr style=\"text-align: right;\">\n",
              "      <th></th>\n",
              "      <th>years</th>\n",
              "      <th>hike</th>\n",
              "    </tr>\n",
              "  </thead>\n",
              "  <tbody>\n",
              "    <tr>\n",
              "      <th>0</th>\n",
              "      <td>1.1</td>\n",
              "      <td>39343</td>\n",
              "    </tr>\n",
              "    <tr>\n",
              "      <th>1</th>\n",
              "      <td>1.3</td>\n",
              "      <td>46205</td>\n",
              "    </tr>\n",
              "    <tr>\n",
              "      <th>2</th>\n",
              "      <td>1.5</td>\n",
              "      <td>37731</td>\n",
              "    </tr>\n",
              "    <tr>\n",
              "      <th>3</th>\n",
              "      <td>2.0</td>\n",
              "      <td>43525</td>\n",
              "    </tr>\n",
              "    <tr>\n",
              "      <th>4</th>\n",
              "      <td>2.2</td>\n",
              "      <td>39891</td>\n",
              "    </tr>\n",
              "  </tbody>\n",
              "</table>\n",
              "</div>"
            ],
            "text/plain": [
              "   years   hike\n",
              "0    1.1  39343\n",
              "1    1.3  46205\n",
              "2    1.5  37731\n",
              "3    2.0  43525\n",
              "4    2.2  39891"
            ]
          },
          "metadata": {},
          "execution_count": 17
        }
      ]
    },
    {
      "cell_type": "markdown",
      "metadata": {
        "id": "mmA174Bs5mIo"
      },
      "source": [
        "**2. Perform EDA on data (Outlier, Missing Values)**"
      ]
    },
    {
      "cell_type": "markdown",
      "metadata": {
        "id": "nz6Tfjal5pHT"
      },
      "source": [
        "**Exploratory Data Analysis**  \n",
        "1 Check for the null Values in dataset.  \n",
        "2 Check for the outlier in dataset"
      ]
    },
    {
      "cell_type": "code",
      "metadata": {
        "colab": {
          "base_uri": "https://localhost:8080/"
        },
        "id": "FOoqNP8wyP42",
        "outputId": "d7afc895-1b64-4f2c-c43d-177d1c2c14fb"
      },
      "source": [
        "# Check for Null Data - No Null values\n",
        "sal.info()"
      ],
      "execution_count": 18,
      "outputs": [
        {
          "output_type": "stream",
          "name": "stdout",
          "text": [
            "<class 'pandas.core.frame.DataFrame'>\n",
            "RangeIndex: 35 entries, 0 to 34\n",
            "Data columns (total 2 columns):\n",
            " #   Column  Non-Null Count  Dtype  \n",
            "---  ------  --------------  -----  \n",
            " 0   years   35 non-null     float64\n",
            " 1   hike    35 non-null     int64  \n",
            "dtypes: float64(1), int64(1)\n",
            "memory usage: 688.0 bytes\n"
          ]
        }
      ]
    },
    {
      "cell_type": "code",
      "metadata": {
        "colab": {
          "base_uri": "https://localhost:8080/",
          "height": 295
        },
        "id": "LFCCWjOMyTZG",
        "outputId": "a89b0125-3e0a-4477-9e5f-0ccde156c1db"
      },
      "source": [
        "sal.describe()"
      ],
      "execution_count": 19,
      "outputs": [
        {
          "output_type": "execute_result",
          "data": {
            "text/html": [
              "<div>\n",
              "<style scoped>\n",
              "    .dataframe tbody tr th:only-of-type {\n",
              "        vertical-align: middle;\n",
              "    }\n",
              "\n",
              "    .dataframe tbody tr th {\n",
              "        vertical-align: top;\n",
              "    }\n",
              "\n",
              "    .dataframe thead th {\n",
              "        text-align: right;\n",
              "    }\n",
              "</style>\n",
              "<table border=\"1\" class=\"dataframe\">\n",
              "  <thead>\n",
              "    <tr style=\"text-align: right;\">\n",
              "      <th></th>\n",
              "      <th>years</th>\n",
              "      <th>hike</th>\n",
              "    </tr>\n",
              "  </thead>\n",
              "  <tbody>\n",
              "    <tr>\n",
              "      <th>count</th>\n",
              "      <td>35.000000</td>\n",
              "      <td>35.000000</td>\n",
              "    </tr>\n",
              "    <tr>\n",
              "      <th>mean</th>\n",
              "      <td>6.308571</td>\n",
              "      <td>83945.600000</td>\n",
              "    </tr>\n",
              "    <tr>\n",
              "      <th>std</th>\n",
              "      <td>3.618610</td>\n",
              "      <td>32162.673003</td>\n",
              "    </tr>\n",
              "    <tr>\n",
              "      <th>min</th>\n",
              "      <td>1.100000</td>\n",
              "      <td>37731.000000</td>\n",
              "    </tr>\n",
              "    <tr>\n",
              "      <th>25%</th>\n",
              "      <td>3.450000</td>\n",
              "      <td>57019.000000</td>\n",
              "    </tr>\n",
              "    <tr>\n",
              "      <th>50%</th>\n",
              "      <td>5.300000</td>\n",
              "      <td>81363.000000</td>\n",
              "    </tr>\n",
              "    <tr>\n",
              "      <th>75%</th>\n",
              "      <td>9.250000</td>\n",
              "      <td>113223.500000</td>\n",
              "    </tr>\n",
              "    <tr>\n",
              "      <th>max</th>\n",
              "      <td>13.500000</td>\n",
              "      <td>139465.000000</td>\n",
              "    </tr>\n",
              "  </tbody>\n",
              "</table>\n",
              "</div>"
            ],
            "text/plain": [
              "           years           hike\n",
              "count  35.000000      35.000000\n",
              "mean    6.308571   83945.600000\n",
              "std     3.618610   32162.673003\n",
              "min     1.100000   37731.000000\n",
              "25%     3.450000   57019.000000\n",
              "50%     5.300000   81363.000000\n",
              "75%     9.250000  113223.500000\n",
              "max    13.500000  139465.000000"
            ]
          },
          "metadata": {},
          "execution_count": 19
        }
      ]
    },
    {
      "cell_type": "code",
      "metadata": {
        "colab": {
          "base_uri": "https://localhost:8080/",
          "height": 296
        },
        "id": "ayxYN1CLyXFA",
        "outputId": "2fb9c396-3953-40b4-8307-60a36dee25c5"
      },
      "source": [
        "#Plot Histogram to view Distribution of data field ( Univariate)\n",
        "sns.histplot(sal[\"hike\"], color ='green',kde=True)"
      ],
      "execution_count": 20,
      "outputs": [
        {
          "output_type": "execute_result",
          "data": {
            "text/plain": [
              "<matplotlib.axes._subplots.AxesSubplot at 0x7f9f92661490>"
            ]
          },
          "metadata": {},
          "execution_count": 20
        },
        {
          "output_type": "display_data",
          "data": {
            "image/png": "[encoded data removed]",
            "text/plain": [
              "<Figure size 432x288 with 1 Axes>"
            ]
          },
          "metadata": {
            "needs_background": "light"
          }
        }
      ]
    },
    {
      "cell_type": "code",
      "metadata": {
        "colab": {
          "base_uri": "https://localhost:8080/",
          "height": 296
        },
        "id": "QGXMlWp1ybBI",
        "outputId": "e3b2a788-1989-4fe9-9b8a-ec3623920acd"
      },
      "source": [
        "#Plot Histogram to view Distribution of data field ( Univariate) \n",
        "sns.histplot(sal[\"years\"], color ='blue',kde=True)"
      ],
      "execution_count": 21,
      "outputs": [
        {
          "output_type": "execute_result",
          "data": {
            "text/plain": [
              "<matplotlib.axes._subplots.AxesSubplot at 0x7f9f749e9bd0>"
            ]
          },
          "metadata": {},
          "execution_count": 21
        },
        {
          "output_type": "display_data",
          "data": {
            "image/png": "[encoded data removed]",
            "text/plain": [
              "<Figure size 432x288 with 1 Axes>"
            ]
          },
          "metadata": {
            "needs_background": "light"
          }
        }
      ]
    },
    {
      "cell_type": "markdown",
      "metadata": {
        "id": "isxW2MSw54bI"
      },
      "source": [
        "**Outlier Identification**  \n",
        "Use BoxPlot to Identify any outlier in data"
      ]
    },
    {
      "cell_type": "code",
      "metadata": {
        "colab": {
          "base_uri": "https://localhost:8080/",
          "height": 350
        },
        "id": "FKEm28CGyeKt",
        "outputId": "c4d47016-f8a2-4fd3-b67b-11c80023b118"
      },
      "source": [
        "sns.boxplot(sal[\"hike\"], color ='green')\n",
        "# No Outlier found based on the boxplot analysis"
      ],
      "execution_count": 22,
      "outputs": [
        {
          "output_type": "stream",
          "name": "stderr",
          "text": [
            "/usr/local/lib/python3.7/dist-packages/seaborn/_decorators.py:43: FutureWarning: Pass the following variable as a keyword arg: x. From version 0.12, the only valid positional argument will be `data`, and passing other arguments without an explicit keyword will result in an error or misinterpretation.\n",
            "  FutureWarning\n"
          ]
        },
        {
          "output_type": "execute_result",
          "data": {
            "text/plain": [
              "<matplotlib.axes._subplots.AxesSubplot at 0x7f9f716ac150>"
            ]
          },
          "metadata": {},
          "execution_count": 22
        },
        {
          "output_type": "display_data",
          "data": {
            "image/png": "[encoded data removed]",
            "text/plain": [
              "<Figure size 432x288 with 1 Axes>"
            ]
          },
          "metadata": {
            "needs_background": "light"
          }
        }
      ]
    },
    {
      "cell_type": "code",
      "metadata": {
        "colab": {
          "base_uri": "https://localhost:8080/",
          "height": 350
        },
        "id": "CVWux_GHzGBD",
        "outputId": "1d3942d4-89f9-49ed-af82-458d101f49cd"
      },
      "source": [
        "sns.boxplot(sal[\"years\"], color ='yellow')\n",
        "# No Outlier found based on the boxplot analysi"
      ],
      "execution_count": 23,
      "outputs": [
        {
          "output_type": "stream",
          "name": "stderr",
          "text": [
            "/usr/local/lib/python3.7/dist-packages/seaborn/_decorators.py:43: FutureWarning: Pass the following variable as a keyword arg: x. From version 0.12, the only valid positional argument will be `data`, and passing other arguments without an explicit keyword will result in an error or misinterpretation.\n",
            "  FutureWarning\n"
          ]
        },
        {
          "output_type": "execute_result",
          "data": {
            "text/plain": [
              "<matplotlib.axes._subplots.AxesSubplot at 0x7f9f71158390>"
            ]
          },
          "metadata": {},
          "execution_count": 23
        },
        {
          "output_type": "display_data",
          "data": {
            "image/png": "[encoded data removed]",
            "text/plain": [
              "<Figure size 432x288 with 1 Axes>"
            ]
          },
          "metadata": {
            "needs_background": "light"
          }
        }
      ]
    },
    {
      "cell_type": "markdown",
      "metadata": {
        "id": "atmPW2am6EnW"
      },
      "source": [
        "**3. Apply Simple linear regression with OLS to create different regression model.**"
      ]
    },
    {
      "cell_type": "markdown",
      "metadata": {
        "id": "jvdvyYja6JxH"
      },
      "source": [
        "**3.1 Model -1 - Vanilla Model ( No Transformation) - y = ax+b**"
      ]
    },
    {
      "cell_type": "code",
      "metadata": {
        "colab": {
          "base_uri": "https://localhost:8080/",
          "height": 296
        },
        "id": "mnbXY0bkzH8a",
        "outputId": "6a60d55e-6c81-41c6-f7cd-37865ca34684"
      },
      "source": [
        "#Check the relation between Variable by Scatter Plot & Correlation Coefficient.\n",
        "sns.scatterplot(y=\"hike\",x=\"years\",data=sal, color = \"purple\" )\n",
        "#Relation Type = Linear\n",
        "#Direction - Positive Correlation\n",
        "#Strength -Can't Comment"
      ],
      "execution_count": 24,
      "outputs": [
        {
          "output_type": "execute_result",
          "data": {
            "text/plain": [
              "<matplotlib.axes._subplots.AxesSubplot at 0x7f9f710cc8d0>"
            ]
          },
          "metadata": {},
          "execution_count": 24
        },
        {
          "output_type": "display_data",
          "data": {
            "image/png": "[encoded data removed]",
            "text/plain": [
              "<Figure size 432x288 with 1 Axes>"
            ]
          },
          "metadata": {
            "needs_background": "light"
          }
        }
      ]
    },
    {
      "cell_type": "code",
      "metadata": {
        "id": "doo9GAfmzNxj"
      },
      "source": [
        "# Find the Correlation Coefficient (R) for the relation\n",
        "# R tells the magnitude of strength of relation between y & x"
      ],
      "execution_count": 25,
      "outputs": []
    },
    {
      "cell_type": "code",
      "metadata": {
        "colab": {
          "base_uri": "https://localhost:8080/"
        },
        "id": "2eQ8ZMfczQE2",
        "outputId": "e0391968-3373-4984-d1b4-d94522ef8d1f"
      },
      "source": [
        "np.corrcoef(sal[\"years\"],sal[\"hike\"])\n",
        "# R value is above 0.85 means Correlation strength is High."
      ],
      "execution_count": 27,
      "outputs": [
        {
          "output_type": "execute_result",
          "data": {
            "text/plain": [
              "array([[1.        , 0.98242725],\n",
              "       [0.98242725, 1.        ]])"
            ]
          },
          "metadata": {},
          "execution_count": 27
        }
      ]
    },
    {
      "cell_type": "code",
      "metadata": {
        "colab": {
          "base_uri": "https://localhost:8080/",
          "height": 432
        },
        "id": "Y_0Soi49zVpL",
        "outputId": "1bdb0eff-71e1-47d3-c5a0-43df6eeb9f4f"
      },
      "source": [
        "#Use OLS & fit model on data\n",
        "import statsmodels.formula.api as smf\n",
        "model1= smf.ols('hike~years',data = sal).fit()\n",
        "model1.summary()\n"
      ],
      "execution_count": 28,
      "outputs": [
        {
          "output_type": "execute_result",
          "data": {
            "text/html": [
              "<table class=\"simpletable\">\n",
              "<caption>OLS Regression Results</caption>\n",
              "<tr>\n",
              "  <th>Dep. Variable:</th>          <td>hike</td>       <th>  R-squared:         </th> <td>   0.965</td>\n",
              "</tr>\n",
              "<tr>\n",
              "  <th>Model:</th>                   <td>OLS</td>       <th>  Adj. R-squared:    </th> <td>   0.964</td>\n",
              "</tr>\n",
              "<tr>\n",
              "  <th>Method:</th>             <td>Least Squares</td>  <th>  F-statistic:       </th> <td>   914.3</td>\n",
              "</tr>\n",
              "<tr>\n",
              "  <th>Date:</th>             <td>Sat, 30 Oct 2021</td> <th>  Prob (F-statistic):</th> <td>1.23e-25</td>\n",
              "</tr>\n",
              "<tr>\n",
              "  <th>Time:</th>                 <td>15:24:39</td>     <th>  Log-Likelihood:    </th> <td> -353.66</td>\n",
              "</tr>\n",
              "<tr>\n",
              "  <th>No. Observations:</th>      <td>    35</td>      <th>  AIC:               </th> <td>   711.3</td>\n",
              "</tr>\n",
              "<tr>\n",
              "  <th>Df Residuals:</th>          <td>    33</td>      <th>  BIC:               </th> <td>   714.4</td>\n",
              "</tr>\n",
              "<tr>\n",
              "  <th>Df Model:</th>              <td>     1</td>      <th>                     </th>     <td> </td>   \n",
              "</tr>\n",
              "<tr>\n",
              "  <th>Covariance Type:</th>      <td>nonrobust</td>    <th>                     </th>     <td> </td>   \n",
              "</tr>\n",
              "</table>\n",
              "<table class=\"simpletable\">\n",
              "<tr>\n",
              "      <td></td>         <th>coef</th>     <th>std err</th>      <th>t</th>      <th>P>|t|</th>  <th>[0.025</th>    <th>0.975]</th>  \n",
              "</tr>\n",
              "<tr>\n",
              "  <th>Intercept</th> <td> 2.886e+04</td> <td> 2092.797</td> <td>   13.790</td> <td> 0.000</td> <td> 2.46e+04</td> <td> 3.31e+04</td>\n",
              "</tr>\n",
              "<tr>\n",
              "  <th>years</th>     <td> 8731.9410</td> <td>  288.783</td> <td>   30.237</td> <td> 0.000</td> <td> 8144.407</td> <td> 9319.475</td>\n",
              "</tr>\n",
              "</table>\n",
              "<table class=\"simpletable\">\n",
              "<tr>\n",
              "  <th>Omnibus:</th>       <td> 1.704</td> <th>  Durbin-Watson:     </th> <td>   1.284</td>\n",
              "</tr>\n",
              "<tr>\n",
              "  <th>Prob(Omnibus):</th> <td> 0.426</td> <th>  Jarque-Bera (JB):  </th> <td>   1.498</td>\n",
              "</tr>\n",
              "<tr>\n",
              "  <th>Skew:</th>          <td> 0.372</td> <th>  Prob(JB):          </th> <td>   0.473</td>\n",
              "</tr>\n",
              "<tr>\n",
              "  <th>Kurtosis:</th>      <td> 2.313</td> <th>  Cond. No.          </th> <td>    14.9</td>\n",
              "</tr>\n",
              "</table><br/><br/>Warnings:<br/>[1] Standard Errors assume that the covariance matrix of the errors is correctly specified."
            ],
            "text/plain": [
              "<class 'statsmodels.iolib.summary.Summary'>\n",
              "\"\"\"\n",
              "                            OLS Regression Results                            \n",
              "==============================================================================\n",
              "Dep. Variable:                   hike   R-squared:                       0.965\n",
              "Model:                            OLS   Adj. R-squared:                  0.964\n",
              "Method:                 Least Squares   F-statistic:                     914.3\n",
              "Date:                Sat, 30 Oct 2021   Prob (F-statistic):           1.23e-25\n",
              "Time:                        15:24:39   Log-Likelihood:                -353.66\n",
              "No. Observations:                  35   AIC:                             711.3\n",
              "Df Residuals:                      33   BIC:                             714.4\n",
              "Df Model:                           1                                         \n",
              "Covariance Type:            nonrobust                                         \n",
              "==============================================================================\n",
              "                 coef    std err          t      P>|t|      [0.025      0.975]\n",
              "------------------------------------------------------------------------------\n",
              "Intercept   2.886e+04   2092.797     13.790      0.000    2.46e+04    3.31e+04\n",
              "years       8731.9410    288.783     30.237      0.000    8144.407    9319.475\n",
              "==============================================================================\n",
              "Omnibus:                        1.704   Durbin-Watson:                   1.284\n",
              "Prob(Omnibus):                  0.426   Jarque-Bera (JB):                1.498\n",
              "Skew:                           0.372   Prob(JB):                        0.473\n",
              "Kurtosis:                       2.313   Cond. No.                         14.9\n",
              "==============================================================================\n",
              "\n",
              "Warnings:\n",
              "[1] Standard Errors assume that the covariance matrix of the errors is correctly specified.\n",
              "\"\"\""
            ]
          },
          "metadata": {},
          "execution_count": 28
        }
      ]
    },
    {
      "cell_type": "code",
      "metadata": {
        "colab": {
          "base_uri": "https://localhost:8080/",
          "height": 279
        },
        "id": "CZ3RnR08zZ1S",
        "outputId": "5249b4fd-a330-47ee-ad6a-66bac705c0b2"
      },
      "source": [
        "# Predict Regression Line Model1\n",
        "pred1 = model1.predict(pd.DataFrame(sal['years']))\n",
        "plt.scatter(x=\"years\",y=\"hike\",data=sal, color = \"purple\" )\n",
        "plt.plot(sal['years'],pred1)\n",
        "plt.legend(['Predicted line', 'Observed data'])\n",
        "plt.xlabel('years')\n",
        "plt.ylabel('Hike')\n",
        "plt.show()\n"
      ],
      "execution_count": 29,
      "outputs": [
        {
          "output_type": "display_data",
          "data": {
            "image/png": "[encoded data removed]",
            "text/plain": [
              "<Figure size 432x288 with 1 Axes>"
            ]
          },
          "metadata": {
            "needs_background": "light"
          }
        }
      ]
    },
    {
      "cell_type": "code",
      "metadata": {
        "colab": {
          "base_uri": "https://localhost:8080/"
        },
        "id": "O6Zr9j8vzhSZ",
        "outputId": "903d21cc-a388-4991-ac8f-833cd994ae86"
      },
      "source": [
        "# RMSE Error calculation (Model-1)\n",
        "res1 = sal.hike - pred1\n",
        "res_sqr1 = res1 * res1\n",
        "mse1 = np.mean(res_sqr1)\n",
        "rmse1 = np.sqrt(mse1)\n",
        "rmse1"
      ],
      "execution_count": 30,
      "outputs": [
        {
          "output_type": "execute_result",
          "data": {
            "text/plain": [
              "5916.65177221896"
            ]
          },
          "metadata": {},
          "execution_count": 30
        }
      ]
    },
    {
      "cell_type": "markdown",
      "metadata": {
        "id": "56bzse6O6cvt"
      },
      "source": [
        "**3.2 Model 2 {Log Transformation}, x = log(years); y = hike**"
      ]
    },
    {
      "cell_type": "code",
      "metadata": {
        "colab": {
          "base_uri": "https://localhost:8080/",
          "height": 298
        },
        "id": "wQJXRAcHznPT",
        "outputId": "02a242f4-b08b-48c1-d1f6-1780d1146440"
      },
      "source": [
        "#Check the relation between Variable by Scatter Plot & Correlation Coefficient.\n",
        "plt.scatter(x = np.log(sal['years']), y = sal['hike'], color = 'brown')\n",
        "np.corrcoef(np.log(sal['years']),sal['hike'] ) #correlation"
      ],
      "execution_count": 31,
      "outputs": [
        {
          "output_type": "execute_result",
          "data": {
            "text/plain": [
              "array([[1.        , 0.94275493],\n",
              "       [0.94275493, 1.        ]])"
            ]
          },
          "metadata": {},
          "execution_count": 31
        },
        {
          "output_type": "display_data",
          "data": {
            "image/png": "[encoded data removed]",
            "text/plain": [
              "<Figure size 432x288 with 1 Axes>"
            ]
          },
          "metadata": {
            "needs_background": "light"
          }
        }
      ]
    },
    {
      "cell_type": "code",
      "metadata": {
        "colab": {
          "base_uri": "https://localhost:8080/",
          "height": 432
        },
        "id": "3u_iWCuFzrkT",
        "outputId": "62046ded-ab00-41bf-80c7-ecb6c0cee77b"
      },
      "source": [
        "#Use OLS & fit model on data\n",
        "model2= smf.ols('hike ~ np.log(years)',data = sal).fit()\n",
        "model2.summary()"
      ],
      "execution_count": 32,
      "outputs": [
        {
          "output_type": "execute_result",
          "data": {
            "text/html": [
              "<table class=\"simpletable\">\n",
              "<caption>OLS Regression Results</caption>\n",
              "<tr>\n",
              "  <th>Dep. Variable:</th>          <td>hike</td>       <th>  R-squared:         </th> <td>   0.889</td>\n",
              "</tr>\n",
              "<tr>\n",
              "  <th>Model:</th>                   <td>OLS</td>       <th>  Adj. R-squared:    </th> <td>   0.885</td>\n",
              "</tr>\n",
              "<tr>\n",
              "  <th>Method:</th>             <td>Least Squares</td>  <th>  F-statistic:       </th> <td>   263.7</td>\n",
              "</tr>\n",
              "<tr>\n",
              "  <th>Date:</th>             <td>Sat, 30 Oct 2021</td> <th>  Prob (F-statistic):</th> <td>2.66e-17</td>\n",
              "</tr>\n",
              "<tr>\n",
              "  <th>Time:</th>                 <td>15:25:59</td>     <th>  Log-Likelihood:    </th> <td> -373.97</td>\n",
              "</tr>\n",
              "<tr>\n",
              "  <th>No. Observations:</th>      <td>    35</td>      <th>  AIC:               </th> <td>   751.9</td>\n",
              "</tr>\n",
              "<tr>\n",
              "  <th>Df Residuals:</th>          <td>    33</td>      <th>  BIC:               </th> <td>   755.1</td>\n",
              "</tr>\n",
              "<tr>\n",
              "  <th>Df Model:</th>              <td>     1</td>      <th>                     </th>     <td> </td>   \n",
              "</tr>\n",
              "<tr>\n",
              "  <th>Covariance Type:</th>      <td>nonrobust</td>    <th>                     </th>     <td> </td>   \n",
              "</tr>\n",
              "</table>\n",
              "<table class=\"simpletable\">\n",
              "<tr>\n",
              "        <td></td>           <th>coef</th>     <th>std err</th>      <th>t</th>      <th>P>|t|</th>  <th>[0.025</th>    <th>0.975]</th>  \n",
              "</tr>\n",
              "<tr>\n",
              "  <th>Intercept</th>     <td> 1.021e+04</td> <td> 4898.980</td> <td>    2.085</td> <td> 0.045</td> <td>  247.046</td> <td> 2.02e+04</td>\n",
              "</tr>\n",
              "<tr>\n",
              "  <th>np.log(years)</th> <td> 4.474e+04</td> <td> 2755.115</td> <td>   16.240</td> <td> 0.000</td> <td> 3.91e+04</td> <td> 5.03e+04</td>\n",
              "</tr>\n",
              "</table>\n",
              "<table class=\"simpletable\">\n",
              "<tr>\n",
              "  <th>Omnibus:</th>       <td> 0.448</td> <th>  Durbin-Watson:     </th> <td>   0.439</td>\n",
              "</tr>\n",
              "<tr>\n",
              "  <th>Prob(Omnibus):</th> <td> 0.799</td> <th>  Jarque-Bera (JB):  </th> <td>   0.381</td>\n",
              "</tr>\n",
              "<tr>\n",
              "  <th>Skew:</th>          <td> 0.234</td> <th>  Prob(JB):          </th> <td>   0.826</td>\n",
              "</tr>\n",
              "<tr>\n",
              "  <th>Kurtosis:</th>      <td> 2.796</td> <th>  Cond. No.          </th> <td>    6.07</td>\n",
              "</tr>\n",
              "</table><br/><br/>Warnings:<br/>[1] Standard Errors assume that the covariance matrix of the errors is correctly specified."
            ],
            "text/plain": [
              "<class 'statsmodels.iolib.summary.Summary'>\n",
              "\"\"\"\n",
              "                            OLS Regression Results                            \n",
              "==============================================================================\n",
              "Dep. Variable:                   hike   R-squared:                       0.889\n",
              "Model:                            OLS   Adj. R-squared:                  0.885\n",
              "Method:                 Least Squares   F-statistic:                     263.7\n",
              "Date:                Sat, 30 Oct 2021   Prob (F-statistic):           2.66e-17\n",
              "Time:                        15:25:59   Log-Likelihood:                -373.97\n",
              "No. Observations:                  35   AIC:                             751.9\n",
              "Df Residuals:                      33   BIC:                             755.1\n",
              "Df Model:                           1                                         \n",
              "Covariance Type:            nonrobust                                         \n",
              "=================================================================================\n",
              "                    coef    std err          t      P>|t|      [0.025      0.975]\n",
              "---------------------------------------------------------------------------------\n",
              "Intercept      1.021e+04   4898.980      2.085      0.045     247.046    2.02e+04\n",
              "np.log(years)  4.474e+04   2755.115     16.240      0.000    3.91e+04    5.03e+04\n",
              "==============================================================================\n",
              "Omnibus:                        0.448   Durbin-Watson:                   0.439\n",
              "Prob(Omnibus):                  0.799   Jarque-Bera (JB):                0.381\n",
              "Skew:                           0.234   Prob(JB):                        0.826\n",
              "Kurtosis:                       2.796   Cond. No.                         6.07\n",
              "==============================================================================\n",
              "\n",
              "Warnings:\n",
              "[1] Standard Errors assume that the covariance matrix of the errors is correctly specified.\n",
              "\"\"\""
            ]
          },
          "metadata": {},
          "execution_count": 32
        }
      ]
    },
    {
      "cell_type": "code",
      "metadata": {
        "colab": {
          "base_uri": "https://localhost:8080/",
          "height": 279
        },
        "id": "ARNMgqP2zvqs",
        "outputId": "2b07e6d5-c043-4acf-dd54-231b0a287ef2"
      },
      "source": [
        "# Predict Regression Line for Model-2\n",
        "pred2 = model2.predict(pd.DataFrame(sal['years']))\n",
        "plt.scatter(x=np.log(sal[\"years\"]),y=\"hike\",data= sal, color = \"purple\" )\n",
        "plt.plot(np.log(sal['years']),pred2)\n",
        "plt.legend(['Predicted line', 'Observed data'])\n",
        "plt.xlabel('log(Years Experience)')\n",
        "plt.ylabel('Salary Hike')\n",
        "plt.show()"
      ],
      "execution_count": 33,
      "outputs": [
        {
          "output_type": "display_data",
          "data": {
            "image/png": "[encoded data removed]",
            "text/plain": [
              "<Figure size 432x288 with 1 Axes>"
            ]
          },
          "metadata": {
            "needs_background": "light"
          }
        }
      ]
    },
    {
      "cell_type": "code",
      "metadata": {
        "colab": {
          "base_uri": "https://localhost:8080/"
        },
        "id": "Djtk11J3z0xC",
        "outputId": "e43eed31-4078-453d-b989-162555ec35ec"
      },
      "source": [
        "# RMSE Error calculation for Model-2\n",
        "res2 = sal.hike- pred2\n",
        "res_sqr2 = res2 * res2\n",
        "mse2 = np.mean(res_sqr2)\n",
        "rmse2 = np.sqrt(mse2)\n",
        "rmse2"
      ],
      "execution_count": 34,
      "outputs": [
        {
          "output_type": "execute_result",
          "data": {
            "text/plain": [
              "10571.476134692335"
            ]
          },
          "metadata": {},
          "execution_count": 34
        }
      ]
    },
    {
      "cell_type": "markdown",
      "metadata": {
        "id": "ksC87KuZ6meo"
      },
      "source": [
        "**3.3 Model-3 {Exponential Method}, y=log(hike), x=year**"
      ]
    },
    {
      "cell_type": "code",
      "metadata": {
        "colab": {
          "base_uri": "https://localhost:8080/",
          "height": 298
        },
        "id": "iu1M0oVgz4h1",
        "outputId": "0da1302a-d97a-433a-9ac5-8b1bcf774927"
      },
      "source": [
        "#Check the relation between Variable by Scatter Plot & Correlation Coefficient.\n",
        "plt.scatter(x = sal['years'], y= np.log(sal['hike']), color = 'brown') # Scatter Plot for checking relation.\n",
        "np.corrcoef(sal['years'],np.log(sal['hike']) ) #correlation"
      ],
      "execution_count": 35,
      "outputs": [
        {
          "output_type": "execute_result",
          "data": {
            "text/plain": [
              "array([[1.        , 0.95969313],\n",
              "       [0.95969313, 1.        ]])"
            ]
          },
          "metadata": {},
          "execution_count": 35
        },
        {
          "output_type": "display_data",
          "data": {
            "image/png": "[encoded data removed]",
            "text/plain": [
              "<Figure size 432x288 with 1 Axes>"
            ]
          },
          "metadata": {
            "needs_background": "light"
          }
        }
      ]
    },
    {
      "cell_type": "code",
      "metadata": {
        "colab": {
          "base_uri": "https://localhost:8080/",
          "height": 432
        },
        "id": "1PAyvuH2z8Bc",
        "outputId": "b674d090-1523-4022-dac6-813cfc99fabb"
      },
      "source": [
        "#Use OLS & fit model on data\n",
        "import statsmodels.formula.api as smf\n",
        "model3= smf.ols('np.log(hike) ~ years',data = sal).fit()\n",
        "model3.summary()"
      ],
      "execution_count": 36,
      "outputs": [
        {
          "output_type": "execute_result",
          "data": {
            "text/html": [
              "<table class=\"simpletable\">\n",
              "<caption>OLS Regression Results</caption>\n",
              "<tr>\n",
              "  <th>Dep. Variable:</th>      <td>np.log(hike)</td>   <th>  R-squared:         </th> <td>   0.921</td>\n",
              "</tr>\n",
              "<tr>\n",
              "  <th>Model:</th>                   <td>OLS</td>       <th>  Adj. R-squared:    </th> <td>   0.919</td>\n",
              "</tr>\n",
              "<tr>\n",
              "  <th>Method:</th>             <td>Least Squares</td>  <th>  F-statistic:       </th> <td>   384.8</td>\n",
              "</tr>\n",
              "<tr>\n",
              "  <th>Date:</th>             <td>Sat, 30 Oct 2021</td> <th>  Prob (F-statistic):</th> <td>9.25e-20</td>\n",
              "</tr>\n",
              "<tr>\n",
              "  <th>Time:</th>                 <td>15:27:06</td>     <th>  Log-Likelihood:    </th> <td>  26.953</td>\n",
              "</tr>\n",
              "<tr>\n",
              "  <th>No. Observations:</th>      <td>    35</td>      <th>  AIC:               </th> <td>  -49.91</td>\n",
              "</tr>\n",
              "<tr>\n",
              "  <th>Df Residuals:</th>          <td>    33</td>      <th>  BIC:               </th> <td>  -46.79</td>\n",
              "</tr>\n",
              "<tr>\n",
              "  <th>Df Model:</th>              <td>     1</td>      <th>                     </th>     <td> </td>   \n",
              "</tr>\n",
              "<tr>\n",
              "  <th>Covariance Type:</th>      <td>nonrobust</td>    <th>                     </th>     <td> </td>   \n",
              "</tr>\n",
              "</table>\n",
              "<table class=\"simpletable\">\n",
              "<tr>\n",
              "      <td></td>         <th>coef</th>     <th>std err</th>      <th>t</th>      <th>P>|t|</th>  <th>[0.025</th>    <th>0.975]</th>  \n",
              "</tr>\n",
              "<tr>\n",
              "  <th>Intercept</th> <td>   10.5849</td> <td>    0.040</td> <td>  267.124</td> <td> 0.000</td> <td>   10.504</td> <td>   10.666</td>\n",
              "</tr>\n",
              "<tr>\n",
              "  <th>years</th>     <td>    0.1073</td> <td>    0.005</td> <td>   19.616</td> <td> 0.000</td> <td>    0.096</td> <td>    0.118</td>\n",
              "</tr>\n",
              "</table>\n",
              "<table class=\"simpletable\">\n",
              "<tr>\n",
              "  <th>Omnibus:</th>       <td> 0.626</td> <th>  Durbin-Watson:     </th> <td>   0.893</td>\n",
              "</tr>\n",
              "<tr>\n",
              "  <th>Prob(Omnibus):</th> <td> 0.731</td> <th>  Jarque-Bera (JB):  </th> <td>   0.687</td>\n",
              "</tr>\n",
              "<tr>\n",
              "  <th>Skew:</th>          <td>-0.106</td> <th>  Prob(JB):          </th> <td>   0.709</td>\n",
              "</tr>\n",
              "<tr>\n",
              "  <th>Kurtosis:</th>      <td> 2.347</td> <th>  Cond. No.          </th> <td>    14.9</td>\n",
              "</tr>\n",
              "</table><br/><br/>Warnings:<br/>[1] Standard Errors assume that the covariance matrix of the errors is correctly specified."
            ],
            "text/plain": [
              "<class 'statsmodels.iolib.summary.Summary'>\n",
              "\"\"\"\n",
              "                            OLS Regression Results                            \n",
              "==============================================================================\n",
              "Dep. Variable:           np.log(hike)   R-squared:                       0.921\n",
              "Model:                            OLS   Adj. R-squared:                  0.919\n",
              "Method:                 Least Squares   F-statistic:                     384.8\n",
              "Date:                Sat, 30 Oct 2021   Prob (F-statistic):           9.25e-20\n",
              "Time:                        15:27:06   Log-Likelihood:                 26.953\n",
              "No. Observations:                  35   AIC:                            -49.91\n",
              "Df Residuals:                      33   BIC:                            -46.79\n",
              "Df Model:                           1                                         \n",
              "Covariance Type:            nonrobust                                         \n",
              "==============================================================================\n",
              "                 coef    std err          t      P>|t|      [0.025      0.975]\n",
              "------------------------------------------------------------------------------\n",
              "Intercept     10.5849      0.040    267.124      0.000      10.504      10.666\n",
              "years          0.1073      0.005     19.616      0.000       0.096       0.118\n",
              "==============================================================================\n",
              "Omnibus:                        0.626   Durbin-Watson:                   0.893\n",
              "Prob(Omnibus):                  0.731   Jarque-Bera (JB):                0.687\n",
              "Skew:                          -0.106   Prob(JB):                        0.709\n",
              "Kurtosis:                       2.347   Cond. No.                         14.9\n",
              "==============================================================================\n",
              "\n",
              "Warnings:\n",
              "[1] Standard Errors assume that the covariance matrix of the errors is correctly specified.\n",
              "\"\"\""
            ]
          },
          "metadata": {},
          "execution_count": 36
        }
      ]
    },
    {
      "cell_type": "code",
      "metadata": {
        "colab": {
          "base_uri": "https://localhost:8080/",
          "height": 279
        },
        "id": "x9fh3BTZ0AK5",
        "outputId": "09a71ed6-c245-42d0-a1e5-797b03ebe073"
      },
      "source": [
        "# Predict Regression Line for Model-3\n",
        "pred3 = model3.predict(pd.DataFrame(sal['years']))\n",
        "pred3_exp = np.exp(pred3)\n",
        "plt.scatter(x =(sal['years']), y = np.log(sal['hike']), color = 'brown')\n",
        "plt.plot(sal['years'],pred3)\n",
        "plt.legend(['Predicted line', 'Observed data'])\n",
        "plt.xlabel('Years Experience')\n",
        "plt.ylabel('log(Salary Hike)')\n",
        "plt.show()"
      ],
      "execution_count": 37,
      "outputs": [
        {
          "output_type": "display_data",
          "data": {
            "image/png": "[encoded data removed]",
            "text/plain": [
              "<Figure size 432x288 with 1 Axes>"
            ]
          },
          "metadata": {
            "needs_background": "light"
          }
        }
      ]
    },
    {
      "cell_type": "code",
      "metadata": {
        "colab": {
          "base_uri": "https://localhost:8080/"
        },
        "id": "Zo2FR-lI0DWp",
        "outputId": "6fe5978c-1938-4fb3-cfde-3cf04e3e12f7"
      },
      "source": [
        "# RMSE Error calculation\n",
        "res3 = sal.hike - pred3_exp\n",
        "res_sqr3 = res3 * res3\n",
        "mse3 = np.mean(res_sqr3)\n",
        "rmse3 = np.sqrt(mse3)\n",
        "rmse3"
      ],
      "execution_count": 38,
      "outputs": [
        {
          "output_type": "execute_result",
          "data": {
            "text/plain": [
              "10200.516603204116"
            ]
          },
          "metadata": {},
          "execution_count": 38
        }
      ]
    },
    {
      "cell_type": "markdown",
      "metadata": {
        "id": "oY265Fa86ve-"
      },
      "source": [
        "**3.4 Model-4 Polynomial of Transformation of Degree 2 ( Quadratic) , y=ax^2+bx+c --> {x = years ; x^2 = (years)^2 ; y = hike}**"
      ]
    },
    {
      "cell_type": "code",
      "metadata": {
        "colab": {
          "base_uri": "https://localhost:8080/",
          "height": 453
        },
        "id": "CyzYF6S70FZC",
        "outputId": "57a7efd4-8c88-451a-9e11-c17112239ae8"
      },
      "source": [
        "#Use OLS & fit model on data\n",
        "model4 = smf.ols('hike ~ years + I(years*years)', data = sal).fit()\n",
        "model4.summary()"
      ],
      "execution_count": 39,
      "outputs": [
        {
          "output_type": "execute_result",
          "data": {
            "text/html": [
              "<table class=\"simpletable\">\n",
              "<caption>OLS Regression Results</caption>\n",
              "<tr>\n",
              "  <th>Dep. Variable:</th>          <td>hike</td>       <th>  R-squared:         </th> <td>   0.970</td>\n",
              "</tr>\n",
              "<tr>\n",
              "  <th>Model:</th>                   <td>OLS</td>       <th>  Adj. R-squared:    </th> <td>   0.968</td>\n",
              "</tr>\n",
              "<tr>\n",
              "  <th>Method:</th>             <td>Least Squares</td>  <th>  F-statistic:       </th> <td>   519.0</td>\n",
              "</tr>\n",
              "<tr>\n",
              "  <th>Date:</th>             <td>Sat, 30 Oct 2021</td> <th>  Prob (F-statistic):</th> <td>4.10e-25</td>\n",
              "</tr>\n",
              "<tr>\n",
              "  <th>Time:</th>                 <td>15:27:53</td>     <th>  Log-Likelihood:    </th> <td> -350.99</td>\n",
              "</tr>\n",
              "<tr>\n",
              "  <th>No. Observations:</th>      <td>    35</td>      <th>  AIC:               </th> <td>   708.0</td>\n",
              "</tr>\n",
              "<tr>\n",
              "  <th>Df Residuals:</th>          <td>    32</td>      <th>  BIC:               </th> <td>   712.6</td>\n",
              "</tr>\n",
              "<tr>\n",
              "  <th>Df Model:</th>              <td>     2</td>      <th>                     </th>     <td> </td>   \n",
              "</tr>\n",
              "<tr>\n",
              "  <th>Covariance Type:</th>      <td>nonrobust</td>    <th>                     </th>     <td> </td>   \n",
              "</tr>\n",
              "</table>\n",
              "<table class=\"simpletable\">\n",
              "<tr>\n",
              "          <td></td>            <th>coef</th>     <th>std err</th>      <th>t</th>      <th>P>|t|</th>  <th>[0.025</th>    <th>0.975]</th>  \n",
              "</tr>\n",
              "<tr>\n",
              "  <th>Intercept</th>        <td> 2.186e+04</td> <td> 3630.803</td> <td>    6.019</td> <td> 0.000</td> <td> 1.45e+04</td> <td> 2.93e+04</td>\n",
              "</tr>\n",
              "<tr>\n",
              "  <th>years</th>            <td> 1.146e+04</td> <td> 1217.275</td> <td>    9.411</td> <td> 0.000</td> <td> 8976.863</td> <td> 1.39e+04</td>\n",
              "</tr>\n",
              "<tr>\n",
              "  <th>I(years * years)</th> <td> -193.9004</td> <td>   84.449</td> <td>   -2.296</td> <td> 0.028</td> <td> -365.917</td> <td>  -21.884</td>\n",
              "</tr>\n",
              "</table>\n",
              "<table class=\"simpletable\">\n",
              "<tr>\n",
              "  <th>Omnibus:</th>       <td> 0.820</td> <th>  Durbin-Watson:     </th> <td>   1.492</td>\n",
              "</tr>\n",
              "<tr>\n",
              "  <th>Prob(Omnibus):</th> <td> 0.664</td> <th>  Jarque-Bera (JB):  </th> <td>   0.813</td>\n",
              "</tr>\n",
              "<tr>\n",
              "  <th>Skew:</th>          <td> 0.157</td> <th>  Prob(JB):          </th> <td>   0.666</td>\n",
              "</tr>\n",
              "<tr>\n",
              "  <th>Kurtosis:</th>      <td> 2.322</td> <th>  Cond. No.          </th> <td>    290.</td>\n",
              "</tr>\n",
              "</table><br/><br/>Warnings:<br/>[1] Standard Errors assume that the covariance matrix of the errors is correctly specified."
            ],
            "text/plain": [
              "<class 'statsmodels.iolib.summary.Summary'>\n",
              "\"\"\"\n",
              "                            OLS Regression Results                            \n",
              "==============================================================================\n",
              "Dep. Variable:                   hike   R-squared:                       0.970\n",
              "Model:                            OLS   Adj. R-squared:                  0.968\n",
              "Method:                 Least Squares   F-statistic:                     519.0\n",
              "Date:                Sat, 30 Oct 2021   Prob (F-statistic):           4.10e-25\n",
              "Time:                        15:27:53   Log-Likelihood:                -350.99\n",
              "No. Observations:                  35   AIC:                             708.0\n",
              "Df Residuals:                      32   BIC:                             712.6\n",
              "Df Model:                           2                                         \n",
              "Covariance Type:            nonrobust                                         \n",
              "====================================================================================\n",
              "                       coef    std err          t      P>|t|      [0.025      0.975]\n",
              "------------------------------------------------------------------------------------\n",
              "Intercept         2.186e+04   3630.803      6.019      0.000    1.45e+04    2.93e+04\n",
              "years             1.146e+04   1217.275      9.411      0.000    8976.863    1.39e+04\n",
              "I(years * years)  -193.9004     84.449     -2.296      0.028    -365.917     -21.884\n",
              "==============================================================================\n",
              "Omnibus:                        0.820   Durbin-Watson:                   1.492\n",
              "Prob(Omnibus):                  0.664   Jarque-Bera (JB):                0.813\n",
              "Skew:                           0.157   Prob(JB):                        0.666\n",
              "Kurtosis:                       2.322   Cond. No.                         290.\n",
              "==============================================================================\n",
              "\n",
              "Warnings:\n",
              "[1] Standard Errors assume that the covariance matrix of the errors is correctly specified.\n",
              "\"\"\""
            ]
          },
          "metadata": {},
          "execution_count": 39
        }
      ]
    },
    {
      "cell_type": "code",
      "metadata": {
        "id": "BDYIhvl60Jmn"
      },
      "source": [
        "pred4 = model4.predict(pd.DataFrame(sal))\n",
        "X = sal.iloc[:, 0:1].values"
      ],
      "execution_count": 40,
      "outputs": []
    },
    {
      "cell_type": "code",
      "metadata": {
        "colab": {
          "base_uri": "https://localhost:8080/",
          "height": 265
        },
        "id": "IjxTLU0K0P7C",
        "outputId": "b50e536e-5eea-46ac-8296-644a3f269269"
      },
      "source": [
        "plt.scatter(sal.years,sal.hike)\n",
        "plt.plot(X, pred4, color = 'red')\n",
        "plt.legend(['Predicted line', 'Observed data'])\n",
        "plt.show()"
      ],
      "execution_count": 41,
      "outputs": [
        {
          "output_type": "display_data",
          "data": {
            "image/png": "[encoded data removed]",
            "text/plain": [
              "<Figure size 432x288 with 1 Axes>"
            ]
          },
          "metadata": {
            "needs_background": "light"
          }
        }
      ]
    },
    {
      "cell_type": "code",
      "metadata": {
        "colab": {
          "base_uri": "https://localhost:8080/"
        },
        "id": "pIS97U6s0Ros",
        "outputId": "b0a5f2dc-97c2-4a50-a02b-4e346dbe53b4"
      },
      "source": [
        "# Error calculation\n",
        "res4 = sal.hike - pred4\n",
        "res_sqr4 = res4 * res4\n",
        "mse4 = np.mean(res_sqr4)\n",
        "rmse4 = np.sqrt(mse4)\n",
        "rmse4"
      ],
      "execution_count": 42,
      "outputs": [
        {
          "output_type": "execute_result",
          "data": {
            "text/plain": [
              "5482.262467661961"
            ]
          },
          "metadata": {},
          "execution_count": 42
        }
      ]
    },
    {
      "cell_type": "code",
      "metadata": {
        "colab": {
          "base_uri": "https://localhost:8080/",
          "height": 172
        },
        "id": "Lg_Y4A2T0VGN",
        "outputId": "27d16d22-fd00-400c-d719-dbf1ccd6130c"
      },
      "source": [
        "# Choose the best model using RMSE\n",
        "data = {\"MODEL\":pd.Series([\"SLR\", \"Log model\", \"Exp model\", \"Poly model\"]), \"RMSE\":pd.Series([rmse1, rmse2, rmse3, rmse4])}\n",
        "table_rmse = pd.DataFrame(data)\n",
        "table_rmse"
      ],
      "execution_count": 43,
      "outputs": [
        {
          "output_type": "execute_result",
          "data": {
            "text/html": [
              "<div>\n",
              "<style scoped>\n",
              "    .dataframe tbody tr th:only-of-type {\n",
              "        vertical-align: middle;\n",
              "    }\n",
              "\n",
              "    .dataframe tbody tr th {\n",
              "        vertical-align: top;\n",
              "    }\n",
              "\n",
              "    .dataframe thead th {\n",
              "        text-align: right;\n",
              "    }\n",
              "</style>\n",
              "<table border=\"1\" class=\"dataframe\">\n",
              "  <thead>\n",
              "    <tr style=\"text-align: right;\">\n",
              "      <th></th>\n",
              "      <th>MODEL</th>\n",
              "      <th>RMSE</th>\n",
              "    </tr>\n",
              "  </thead>\n",
              "  <tbody>\n",
              "    <tr>\n",
              "      <th>0</th>\n",
              "      <td>SLR</td>\n",
              "      <td>5916.651772</td>\n",
              "    </tr>\n",
              "    <tr>\n",
              "      <th>1</th>\n",
              "      <td>Log model</td>\n",
              "      <td>10571.476135</td>\n",
              "    </tr>\n",
              "    <tr>\n",
              "      <th>2</th>\n",
              "      <td>Exp model</td>\n",
              "      <td>10200.516603</td>\n",
              "    </tr>\n",
              "    <tr>\n",
              "      <th>3</th>\n",
              "      <td>Poly model</td>\n",
              "      <td>5482.262468</td>\n",
              "    </tr>\n",
              "  </tbody>\n",
              "</table>\n",
              "</div>"
            ],
            "text/plain": [
              "        MODEL          RMSE\n",
              "0         SLR   5916.651772\n",
              "1   Log model  10571.476135\n",
              "2   Exp model  10200.516603\n",
              "3  Poly model   5482.262468"
            ]
          },
          "metadata": {},
          "execution_count": 43
        }
      ]
    },
    {
      "cell_type": "code",
      "metadata": {
        "id": "OSY-9b9Y0Y5K"
      },
      "source": [
        "#Althought the R^2 & RMSE value is higher for Polynomial model but it is having p value higher than 5% Hence we will neglect this model.\n",
        "#Our Best model is Base Model with No transfomation.( Vanilla Model)"
      ],
      "execution_count": 44,
      "outputs": []
    },
    {
      "cell_type": "markdown",
      "metadata": {
        "id": "MX2IAFRG1Adp"
      },
      "source": [
        "4. Best Model Selection from 4 Model tested Based on R , R^2 & RMSE Values¶"
      ]
    },
    {
      "cell_type": "markdown",
      "metadata": {
        "id": "QPTSuXi01GMW"
      },
      "source": [
        "![image.png](data:image/png;base64,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)"
      ]
    },
    {
      "cell_type": "markdown",
      "metadata": {
        "id": "x8Jyw6Ma148G"
      },
      "source": [
        "4.1. BEST MODEL - Vanilla Model ( y=mx+c,No Tranformation)"
      ]
    },
    {
      "cell_type": "markdown",
      "metadata": {
        "id": "D0UYmeWR198h"
      },
      "source": [
        "5. Train & Test your data on the Best model to check the performance of model on test data"
      ]
    },
    {
      "cell_type": "code",
      "metadata": {
        "colab": {
          "base_uri": "https://localhost:8080/",
          "height": 432
        },
        "id": "zq_-oilF2CWX",
        "outputId": "c60fe306-0d1c-40e5-923c-1bd795514ce6"
      },
      "source": [
        "from sklearn.model_selection import train_test_split\n",
        "\n",
        "train, test = train_test_split(sal, test_size = 0.25,random_state=6)\n",
        "\n",
        "finalmodel = smf.ols('hike ~ years', data = train).fit()\n",
        "finalmodel.summary()"
      ],
      "execution_count": 45,
      "outputs": [
        {
          "output_type": "execute_result",
          "data": {
            "text/html": [
              "<table class=\"simpletable\">\n",
              "<caption>OLS Regression Results</caption>\n",
              "<tr>\n",
              "  <th>Dep. Variable:</th>          <td>hike</td>       <th>  R-squared:         </th> <td>   0.973</td>\n",
              "</tr>\n",
              "<tr>\n",
              "  <th>Model:</th>                   <td>OLS</td>       <th>  Adj. R-squared:    </th> <td>   0.972</td>\n",
              "</tr>\n",
              "<tr>\n",
              "  <th>Method:</th>             <td>Least Squares</td>  <th>  F-statistic:       </th> <td>   877.7</td>\n",
              "</tr>\n",
              "<tr>\n",
              "  <th>Date:</th>             <td>Sat, 30 Oct 2021</td> <th>  Prob (F-statistic):</th> <td>2.06e-20</td>\n",
              "</tr>\n",
              "<tr>\n",
              "  <th>Time:</th>                 <td>15:36:24</td>     <th>  Log-Likelihood:    </th> <td> -259.54</td>\n",
              "</tr>\n",
              "<tr>\n",
              "  <th>No. Observations:</th>      <td>    26</td>      <th>  AIC:               </th> <td>   523.1</td>\n",
              "</tr>\n",
              "<tr>\n",
              "  <th>Df Residuals:</th>          <td>    24</td>      <th>  BIC:               </th> <td>   525.6</td>\n",
              "</tr>\n",
              "<tr>\n",
              "  <th>Df Model:</th>              <td>     1</td>      <th>                     </th>     <td> </td>   \n",
              "</tr>\n",
              "<tr>\n",
              "  <th>Covariance Type:</th>      <td>nonrobust</td>    <th>                     </th>     <td> </td>   \n",
              "</tr>\n",
              "</table>\n",
              "<table class=\"simpletable\">\n",
              "<tr>\n",
              "      <td></td>         <th>coef</th>     <th>std err</th>      <th>t</th>      <th>P>|t|</th>  <th>[0.025</th>    <th>0.975]</th>  \n",
              "</tr>\n",
              "<tr>\n",
              "  <th>Intercept</th> <td> 2.764e+04</td> <td> 2216.766</td> <td>   12.471</td> <td> 0.000</td> <td> 2.31e+04</td> <td> 3.22e+04</td>\n",
              "</tr>\n",
              "<tr>\n",
              "  <th>years</th>     <td> 8692.7201</td> <td>  293.409</td> <td>   29.627</td> <td> 0.000</td> <td> 8087.154</td> <td> 9298.287</td>\n",
              "</tr>\n",
              "</table>\n",
              "<table class=\"simpletable\">\n",
              "<tr>\n",
              "  <th>Omnibus:</th>       <td> 8.006</td> <th>  Durbin-Watson:     </th> <td>   1.830</td>\n",
              "</tr>\n",
              "<tr>\n",
              "  <th>Prob(Omnibus):</th> <td> 0.018</td> <th>  Jarque-Bera (JB):  </th> <td>   2.218</td>\n",
              "</tr>\n",
              "<tr>\n",
              "  <th>Skew:</th>          <td> 0.219</td> <th>  Prob(JB):          </th> <td>   0.330</td>\n",
              "</tr>\n",
              "<tr>\n",
              "  <th>Kurtosis:</th>      <td> 1.638</td> <th>  Cond. No.          </th> <td>    15.9</td>\n",
              "</tr>\n",
              "</table><br/><br/>Warnings:<br/>[1] Standard Errors assume that the covariance matrix of the errors is correctly specified."
            ],
            "text/plain": [
              "<class 'statsmodels.iolib.summary.Summary'>\n",
              "\"\"\"\n",
              "                            OLS Regression Results                            \n",
              "==============================================================================\n",
              "Dep. Variable:                   hike   R-squared:                       0.973\n",
              "Model:                            OLS   Adj. R-squared:                  0.972\n",
              "Method:                 Least Squares   F-statistic:                     877.7\n",
              "Date:                Sat, 30 Oct 2021   Prob (F-statistic):           2.06e-20\n",
              "Time:                        15:36:24   Log-Likelihood:                -259.54\n",
              "No. Observations:                  26   AIC:                             523.1\n",
              "Df Residuals:                      24   BIC:                             525.6\n",
              "Df Model:                           1                                         \n",
              "Covariance Type:            nonrobust                                         \n",
              "==============================================================================\n",
              "                 coef    std err          t      P>|t|      [0.025      0.975]\n",
              "------------------------------------------------------------------------------\n",
              "Intercept   2.764e+04   2216.766     12.471      0.000    2.31e+04    3.22e+04\n",
              "years       8692.7201    293.409     29.627      0.000    8087.154    9298.287\n",
              "==============================================================================\n",
              "Omnibus:                        8.006   Durbin-Watson:                   1.830\n",
              "Prob(Omnibus):                  0.018   Jarque-Bera (JB):                2.218\n",
              "Skew:                           0.219   Prob(JB):                        0.330\n",
              "Kurtosis:                       1.638   Cond. No.                         15.9\n",
              "==============================================================================\n",
              "\n",
              "Warnings:\n",
              "[1] Standard Errors assume that the covariance matrix of the errors is correctly specified.\n",
              "\"\"\""
            ]
          },
          "metadata": {},
          "execution_count": 45
        }
      ]
    },
    {
      "cell_type": "code",
      "metadata": {
        "colab": {
          "base_uri": "https://localhost:8080/"
        },
        "id": "Md7u6IZQ2IGd",
        "outputId": "514fce93-406b-4d69-b7cd-4468ab35ae5f"
      },
      "source": [
        "# Prediction on train data\n",
        "train_pred = finalmodel.predict(pd.DataFrame(train))\n",
        "train_pred "
      ],
      "execution_count": 46,
      "outputs": [
        {
          "output_type": "execute_result",
          "data": {
            "text/plain": [
              "33    139780.315313\n",
              "5      52853.113957\n",
              "22     96316.714635\n",
              "24    103270.890744\n",
              "18     78931.274364\n",
              "32    134564.683232\n",
              "2      40683.305767\n",
              "8      55460.929998\n",
              "21     89362.538527\n",
              "4      46768.209862\n",
              "14     66761.466174\n",
              "12     62415.106106\n",
              "26    110225.066852\n",
              "29    118917.786988\n",
              "30    125002.691083\n",
              "11     62415.106106\n",
              "1      38944.761740\n",
              "25    105878.706784\n",
              "16     71977.098256\n",
              "31    127610.507123\n",
              "15     70238.554228\n",
              "13     63284.378120\n",
              "34    144995.947394\n",
              "20     86754.722486\n",
              "9      59807.290066\n",
              "10     61545.834093\n",
              "dtype: float64"
            ]
          },
          "metadata": {},
          "execution_count": 46
        }
      ]
    },
    {
      "cell_type": "code",
      "metadata": {
        "colab": {
          "base_uri": "https://localhost:8080/"
        },
        "id": "X7zszhlR2LrT",
        "outputId": "7f91a6e5-0503-44a6-ec79-81d8abc484c4"
      },
      "source": [
        "# Model Evaluation on train data\n",
        "train_res = train.hike - train_pred\n",
        "train_sqrs = train_res * train_res\n",
        "train_mse = np.mean(train_sqrs)\n",
        "train_rmse = np.sqrt(train_mse)\n",
        "train_rmse"
      ],
      "execution_count": 47,
      "outputs": [
        {
          "output_type": "execute_result",
          "data": {
            "text/plain": [
              "5235.575922893785"
            ]
          },
          "metadata": {},
          "execution_count": 47
        }
      ]
    },
    {
      "cell_type": "code",
      "metadata": {
        "colab": {
          "base_uri": "https://localhost:8080/"
        },
        "id": "2CPLjvX52gZt",
        "outputId": "f05516cf-a58b-4424-e9df-c942d069fdad"
      },
      "source": [
        "# Predict on test data\n",
        "test_pred = finalmodel.predict(pd.DataFrame(test))\n",
        "test_pred"
      ],
      "execution_count": 48,
      "outputs": [
        {
          "output_type": "execute_result",
          "data": {
            "text/plain": [
              "7      55460.929998\n",
              "27    111094.338866\n",
              "23     98924.530676\n",
              "0      37206.217713\n",
              "17     73715.642283\n",
              "28    117179.242961\n",
              "3      45029.665835\n",
              "19     79800.546378\n",
              "6      53722.385971\n",
              "dtype: float64"
            ]
          },
          "metadata": {},
          "execution_count": 48
        }
      ]
    },
    {
      "cell_type": "code",
      "metadata": {
        "colab": {
          "base_uri": "https://localhost:8080/"
        },
        "id": "1d-oKBE52mpz",
        "outputId": "530fcab1-e9e9-4df8-ea67-3cdc2e440fc7"
      },
      "source": [
        "# Model Evaluation on Test data\n",
        "test_res = test.hike - test_pred\n",
        "test_sqrs = test_res * test_res\n",
        "test_mse = np.mean(test_sqrs)\n",
        "test_rmse = np.sqrt(test_mse)\n",
        "test_rmse"
      ],
      "execution_count": 49,
      "outputs": [
        {
          "output_type": "execute_result",
          "data": {
            "text/plain": [
              "8083.68880767068"
            ]
          },
          "metadata": {},
          "execution_count": 49
        }
      ]
    },
    {
      "cell_type": "markdown",
      "metadata": {
        "id": "SkfyrYAb2vvo"
      },
      "source": [
        "**6 Final Observation**"
      ]
    },
    {
      "cell_type": "markdown",
      "metadata": {
        "id": "fm1D0mNA2yrs"
      },
      "source": [
        "Although Train data is giving better result than test data hence it looks like an overfit model. But since the RMSE value of Train & Test data is very Close, it can be Inferred Model will perform well in real life scenario with Unknown Data. Hence, we can predict the Salary Hike with higher accuracy based on Year’s of Experience data."
      ]
    },
    {
      "cell_type": "markdown",
      "metadata": {
        "id": "5B-gPeJm22wN"
      },
      "source": [
        "## **Final R^2 Value = 97.3%**"
      ]
    },
    {
      "cell_type": "markdown",
      "metadata": {
        "id": "k1Y3QvkrtLNC"
      },
      "source": [
        "# New Section"
      ]
    }
  ]
}